{
  "nbformat": 4,
  "nbformat_minor": 0,
  "metadata": {
    "colab": {
      "name": "convnet-for-geoguessr.ipynb",
      "provenance": [],
      "collapsed_sections": []
    },
    "kernelspec": {
      "display_name": "Python 3",
      "name": "python3"
    },
    "language_info": {
      "name": "python"
    }
  },
  "cells": [
    {
      "cell_type": "code",
      "metadata": {
        "id": "1EaZdjja8LhW"
      },
      "source": [
        "\n",
        "import tensorflow as tf\n"
      ],
      "execution_count": null,
      "outputs": []
    },
    {
      "cell_type": "markdown",
      "metadata": {
        "id": "ccsG09dfdMVT"
      },
      "source": [
        "#Importing the Data\n",
        "Using data from our github repo, we will be using 220 images per section to train our network.\n"
      ]
    },
    {
      "cell_type": "code",
      "metadata": {
        "colab": {
          "base_uri": "https://localhost:8080/"
        },
        "id": "8mfZb9NafiH5",
        "outputId": "638998d7-6735-41b2-d7f1-b753c867187c"
      },
      "source": [
        "from google.colab import drive\n",
        "import os, shutil\n",
        "drive.mount('/content/drive', force_remount=True)"
      ],
      "execution_count": null,
      "outputs": [
        {
          "output_type": "stream",
          "name": "stdout",
          "text": [
            "Mounted at /content/drive\n"
          ]
        }
      ]
    },
    {
      "cell_type": "markdown",
      "metadata": {
        "id": "YDRXOW-pw_0p"
      },
      "source": [
        "The training data:"
      ]
    },
    {
      "cell_type": "code",
      "metadata": {
        "id": "oAjIG-M70AV3"
      },
      "source": [
        ""
      ],
      "execution_count": null,
      "outputs": []
    },
    {
      "cell_type": "code",
      "metadata": {
        "id": "qNLVaJd9dogD"
      },
      "source": [
        "#base directory for the folder\n",
        "dataset_folder = '/content/drive/MyDrive/Run 1'\n",
        "\n",
        "if not os.path.exists(dataset_folder):\n",
        "  os.mkdir(dataset_folder)\n",
        "\n",
        "#separate the different \"sections\" from Run1\n",
        "\n",
        "section0_folder = os.path.join(dataset_folder, \"SECTION0\")\n",
        "if not os.path.exists(section0_folder):\n",
        "  os.mkdir(section0_folder)\n",
        "  print(\"fail\")\n",
        "\n",
        "section1_folder = os.path.join(dataset_folder, \"SECTION1\")\n",
        "if not os.path.exists(section1_folder):\n",
        "  os.mkdir(section1_folder)\n",
        "  print(\"fail\")\n",
        "\n",
        "section2_folder = os.path.join(dataset_folder, \"SECTION2\")\n",
        "if not os.path.exists(section2_folder):\n",
        "  os.mkdir(section2_folder)\n",
        "  print(\"fail\")\n",
        "\n",
        "section3_folder = os.path.join(dataset_folder, \"SECTION3\")\n",
        "if not os.path.exists(section3_folder):\n",
        "  os.mkdir(section3_folder)\n",
        "  print(\"fail\")\n",
        "\n",
        "section4_folder = os.path.join(dataset_folder, \"SECTION4\")\n",
        "if not os.path.exists(section4_folder):\n",
        "  os.mkdir(section4_folder)\n",
        "  print(\"fail\")\n",
        "\n",
        "section5_folder = os.path.join(dataset_folder, \"SECTION5\")\n",
        "if not os.path.exists(section5_folder):\n",
        "  os.mkdir(section5_folder)\n",
        "  print(\"fail\")\n",
        "\n",
        "section6_folder = os.path.join(dataset_folder, \"SECTION6\")\n",
        "if not os.path.exists(section6_folder):\n",
        "  os.mkdir(section6_folder)\n",
        "  print(\"fail\")\n",
        "\n",
        "section7_folder = os.path.join(dataset_folder, \"SECTION7\")\n",
        "if not os.path.exists(section7_folder):\n",
        "  os.mkdir(section7_folder)\n",
        "  print(\"fail\")\n"
      ],
      "execution_count": null,
      "outputs": []
    },
    {
      "cell_type": "markdown",
      "metadata": {
        "id": "HJZhM-rrxDYN"
      },
      "source": [
        "The validation data:"
      ]
    },
    {
      "cell_type": "code",
      "metadata": {
        "id": "E5-I2-mIw9hd"
      },
      "source": [
        "\n",
        "#base directory for the folder\n",
        "vset_folder = '/content/drive/MyDrive/Validation1'\n",
        "\n",
        "\n",
        "if not os.path.exists(vset_folder):\n",
        "  os.mkdir(vset_folder)\n",
        "\n",
        "#separate the different \"sections\" from Run1\n",
        "\n",
        "vsection0_folder = os.path.join(vset_folder, \"SECTION0\")\n",
        "if not os.path.exists(vsection0_folder):\n",
        "  os.mkdir(vsection0_folder)\n",
        "  print(\"fail\")\n",
        "\n",
        "vsection1_folder = os.path.join(vset_folder, \"SECTION1\")\n",
        "if not os.path.exists(vsection1_folder):\n",
        "  os.mkdir(vsection1_folder)\n",
        "  print(\"fail\")\n",
        "\n",
        "vsection2_folder = os.path.join(vset_folder, \"SECTION2\")\n",
        "if not os.path.exists(vsection2_folder):\n",
        "  os.mkdir(vsection2_folder)\n",
        "  print(\"fail\")\n",
        "\n",
        "vsection3_folder = os.path.join(vset_folder, \"SECTION3\")\n",
        "if not os.path.exists(vsection3_folder):\n",
        "  os.mkdir(vsection3_folder)\n",
        "  print(\"fail\")\n",
        "\n",
        "vsection4_folder = os.path.join(vset_folder, \"SECTION4\")\n",
        "if not os.path.exists(vsection4_folder):\n",
        "  os.mkdir(vsection4_folder)\n",
        "  print(\"fail\")\n",
        "\n",
        "vsection5_folder = os.path.join(vset_folder, \"SECTION5\")\n",
        "if not os.path.exists(vsection5_folder):\n",
        "  os.mkdir(vsection5_folder)\n",
        "  print(\"fail\")\n",
        "\n",
        "vsection6_folder = os.path.join(vset_folder, \"SECTION6\")\n",
        "if not os.path.exists(vsection6_folder):\n",
        "  os.mkdir(vsection6_folder)\n",
        "  print(\"fail\")\n",
        "\n",
        "vsection7_folder = os.path.join(vset_folder, \"SECTION7\")\n",
        "if not os.path.exists(vsection7_folder):\n",
        "  os.mkdir(vsection7_folder)\n",
        "  print(\"fail\")"
      ],
      "execution_count": null,
      "outputs": []
    },
    {
      "cell_type": "code",
      "metadata": {
        "colab": {
          "base_uri": "https://localhost:8080/"
        },
        "id": "1CRxb4oUlo_S",
        "outputId": "17ffadb3-b549-4c3f-873c-bcefb3d4b913"
      },
      "source": [
        "print(\"total number of images in section 0: \", len(os.listdir(section0_folder)))"
      ],
      "execution_count": null,
      "outputs": [
        {
          "output_type": "stream",
          "name": "stdout",
          "text": [
            "total number of images in section 0:  129\n"
          ]
        }
      ]
    },
    {
      "cell_type": "code",
      "metadata": {
        "colab": {
          "base_uri": "https://localhost:8080/"
        },
        "id": "HHSbiKc9mY-q",
        "outputId": "42473501-3054-4d37-9483-52b1d5d4b8e5"
      },
      "source": [
        "print(\"total number of images in section 1: \", len(os.listdir(section1_folder)))"
      ],
      "execution_count": null,
      "outputs": [
        {
          "output_type": "stream",
          "name": "stdout",
          "text": [
            "total number of images in section 1:  198\n"
          ]
        }
      ]
    },
    {
      "cell_type": "code",
      "metadata": {
        "colab": {
          "base_uri": "https://localhost:8080/"
        },
        "id": "kxWEy5_xmZLj",
        "outputId": "f46151b0-ef75-49f9-9ce1-eeec5f6454b7"
      },
      "source": [
        "print(\"total number of images in section 2: \", len(os.listdir(section2_folder)))"
      ],
      "execution_count": null,
      "outputs": [
        {
          "output_type": "stream",
          "name": "stdout",
          "text": [
            "total number of images in section 2:  112\n"
          ]
        }
      ]
    },
    {
      "cell_type": "code",
      "metadata": {
        "colab": {
          "base_uri": "https://localhost:8080/"
        },
        "id": "ldPyjfAamZVF",
        "outputId": "c983279a-d197-4a15-b50c-7aabbb5da458"
      },
      "source": [
        "print(\"total number of images in section 3: \", len(os.listdir(section3_folder)))"
      ],
      "execution_count": null,
      "outputs": [
        {
          "output_type": "stream",
          "name": "stdout",
          "text": [
            "total number of images in section 3:  221\n"
          ]
        }
      ]
    },
    {
      "cell_type": "code",
      "metadata": {
        "colab": {
          "base_uri": "https://localhost:8080/"
        },
        "id": "6TdvP4cNmog5",
        "outputId": "b1ffe1ff-7a33-4580-8898-f93b3b5590b1"
      },
      "source": [
        "print(\"total number of images in section 4: \", len(os.listdir(section4_folder)))"
      ],
      "execution_count": null,
      "outputs": [
        {
          "output_type": "stream",
          "name": "stdout",
          "text": [
            "total number of images in section 4:  221\n"
          ]
        }
      ]
    },
    {
      "cell_type": "code",
      "metadata": {
        "colab": {
          "base_uri": "https://localhost:8080/"
        },
        "id": "ZD5UCVw2mosY",
        "outputId": "966dd856-aa78-4916-9aa6-536b97ba20f7"
      },
      "source": [
        "print(\"total number of images in section 5: \", len(os.listdir(section5_folder)))"
      ],
      "execution_count": null,
      "outputs": [
        {
          "output_type": "stream",
          "name": "stdout",
          "text": [
            "total number of images in section 5:  201\n"
          ]
        }
      ]
    },
    {
      "cell_type": "code",
      "metadata": {
        "colab": {
          "base_uri": "https://localhost:8080/"
        },
        "id": "ynexG9eJmtLE",
        "outputId": "251d7d6d-26dc-4c17-aeec-ea522f149461"
      },
      "source": [
        "print(\"total number of images in section 6: \", len(os.listdir(section6_folder)))"
      ],
      "execution_count": null,
      "outputs": [
        {
          "output_type": "stream",
          "name": "stdout",
          "text": [
            "total number of images in section 6:  189\n"
          ]
        }
      ]
    },
    {
      "cell_type": "code",
      "metadata": {
        "colab": {
          "base_uri": "https://localhost:8080/"
        },
        "id": "xMKiV1memo3o",
        "outputId": "d788abcb-8f93-423f-adc1-2adc1abc4da0"
      },
      "source": [
        "print(\"total number of images in section 7: \", len(os.listdir(section7_folder)))"
      ],
      "execution_count": null,
      "outputs": [
        {
          "output_type": "stream",
          "name": "stdout",
          "text": [
            "total number of images in section 7:  169\n"
          ]
        }
      ]
    },
    {
      "cell_type": "markdown",
      "metadata": {
        "id": "iR2aa9NEnzWR"
      },
      "source": [
        "#Building the CNN\n",
        "Using the model of the convnet from the Cats and Dogs classification problem, we are building the network for our dataset."
      ]
    },
    {
      "cell_type": "code",
      "metadata": {
        "id": "Cxaz4VUenwwc"
      },
      "source": [
        "from keras import layers\n",
        "from keras import models\n",
        "\n",
        "model = models.Sequential()\n",
        "model.add(layers.Conv2D(32, (3, 3), activation='relu',\n",
        "                        input_shape=(150, 150, 3)))\n",
        "model.add(layers.MaxPooling2D((2, 2)))\n",
        "model.add(layers.Conv2D(64, (3, 3), activation='relu'))\n",
        "model.add(layers.MaxPooling2D((2, 2)))\n",
        "model.add(layers.Conv2D(128, (3, 3), activation='relu'))\n",
        "model.add(layers.MaxPooling2D((2, 2)))\n",
        "model.add(layers.Conv2D(128, (3, 3), activation='relu'))\n",
        "model.add(layers.MaxPooling2D((2, 2)))\n",
        "model.add(layers.Flatten())\n",
        "model.add(layers.Dropout(0.5))\n",
        "model.add(layers.Dense(512, activation='relu'))\n",
        "model.add(layers.Dense(1, activation='sigmoid'))"
      ],
      "execution_count": null,
      "outputs": []
    },
    {
      "cell_type": "code",
      "metadata": {
        "colab": {
          "base_uri": "https://localhost:8080/"
        },
        "id": "IbUEcztInzE6",
        "outputId": "4c26aefa-b158-4c8b-ed75-1fbaee038998"
      },
      "source": [
        "model.summary()"
      ],
      "execution_count": null,
      "outputs": [
        {
          "output_type": "stream",
          "name": "stdout",
          "text": [
            "Model: \"sequential_3\"\n",
            "_________________________________________________________________\n",
            " Layer (type)                Output Shape              Param #   \n",
            "=================================================================\n",
            " conv2d_12 (Conv2D)          (None, 148, 148, 32)      896       \n",
            "                                                                 \n",
            " max_pooling2d_12 (MaxPoolin  (None, 74, 74, 32)       0         \n",
            " g2D)                                                            \n",
            "                                                                 \n",
            " conv2d_13 (Conv2D)          (None, 72, 72, 64)        18496     \n",
            "                                                                 \n",
            " max_pooling2d_13 (MaxPoolin  (None, 36, 36, 64)       0         \n",
            " g2D)                                                            \n",
            "                                                                 \n",
            " conv2d_14 (Conv2D)          (None, 34, 34, 128)       73856     \n",
            "                                                                 \n",
            " max_pooling2d_14 (MaxPoolin  (None, 17, 17, 128)      0         \n",
            " g2D)                                                            \n",
            "                                                                 \n",
            " conv2d_15 (Conv2D)          (None, 15, 15, 128)       147584    \n",
            "                                                                 \n",
            " max_pooling2d_15 (MaxPoolin  (None, 7, 7, 128)        0         \n",
            " g2D)                                                            \n",
            "                                                                 \n",
            " flatten_3 (Flatten)         (None, 6272)              0         \n",
            "                                                                 \n",
            " dropout_3 (Dropout)         (None, 6272)              0         \n",
            "                                                                 \n",
            " dense_6 (Dense)             (None, 512)               3211776   \n",
            "                                                                 \n",
            " dense_7 (Dense)             (None, 1)                 513       \n",
            "                                                                 \n",
            "=================================================================\n",
            "Total params: 3,453,121\n",
            "Trainable params: 3,453,121\n",
            "Non-trainable params: 0\n",
            "_________________________________________________________________\n"
          ]
        }
      ]
    },
    {
      "cell_type": "code",
      "metadata": {
        "id": "XwsaWw7Iphtf"
      },
      "source": [
        "from tensorflow.keras import optimizers\n",
        "\n",
        "model.compile(loss='categorical_crossentropy',\n",
        "              optimizer=optimizers.RMSprop(learning_rate=1e-5),\n",
        "              metrics=['acc'])"
      ],
      "execution_count": null,
      "outputs": []
    },
    {
      "cell_type": "markdown",
      "metadata": {
        "id": "aD7PBtelsttL"
      },
      "source": [
        "#Data Preprocessing "
      ]
    },
    {
      "cell_type": "code",
      "metadata": {
        "colab": {
          "base_uri": "https://localhost:8080/"
        },
        "id": "uh_64sd_tkXq",
        "outputId": "4ed39ceb-7cf7-481b-eac4-fb78181c3969"
      },
      "source": [
        "from keras.preprocessing.image import ImageDataGenerator\n",
        "\n",
        "# All images will be rescaled by 1./255\n",
        "train_datagen = ImageDataGenerator(rescale=1./255)\n",
        "test_datagen = ImageDataGenerator(rescale=1./255)\n",
        "\n",
        "train_generator = train_datagen.flow_from_directory(\n",
        "        # This is the target directory\n",
        "        dataset_folder,\n",
        "        # All images will be resized to 150x150\n",
        "        target_size=(150, 150),\n",
        "        batch_size=8,\n",
        "        # Since we use categorical_crossentropy loss, we need categorical labels\n",
        "        class_mode='categorical')\n",
        "validation_generator = test_datagen.flow_from_directory(\n",
        "        vset_folder,\n",
        "        target_size=(150, 150),\n",
        "        batch_size=8,\n",
        "        class_mode='categorical')\n"
      ],
      "execution_count": null,
      "outputs": [
        {
          "output_type": "stream",
          "name": "stdout",
          "text": [
            "Found 1431 images belonging to 8 classes.\n",
            "Found 610 images belonging to 8 classes.\n"
          ]
        }
      ]
    },
    {
      "cell_type": "code",
      "metadata": {
        "colab": {
          "base_uri": "https://localhost:8080/"
        },
        "id": "Yv9tdEYSvd6Z",
        "outputId": "7e5a369d-706f-4a83-94de-4c87dceb0ef5"
      },
      "source": [
        "for data_batch, labels_batch in train_generator:\n",
        "    print('data batch shape:', data_batch.shape)\n",
        "    print('labels batch shape:', labels_batch.shape)\n",
        "    break"
      ],
      "execution_count": null,
      "outputs": [
        {
          "output_type": "stream",
          "name": "stdout",
          "text": [
            "data batch shape: (8, 150, 150, 3)\n",
            "labels batch shape: (8, 8)\n"
          ]
        }
      ]
    },
    {
      "cell_type": "code",
      "metadata": {
        "colab": {
          "base_uri": "https://localhost:8080/"
        },
        "id": "JvWNYBl0Jc09",
        "outputId": "38deecc9-554d-4101-d936-33d6c17f9e06"
      },
      "source": [
        "\n",
        "history = model.fit(\n",
        "      train_generator,\n",
        "      steps_per_epoch=20,\n",
        "      epochs=30,\n",
        "      validation_data=validation_generator\n",
        "      )"
      ],
      "execution_count": null,
      "outputs": [
        {
          "output_type": "stream",
          "name": "stdout",
          "text": [
            "Epoch 1/30\n",
            "20/20 [==============================] - 21s 1s/step - loss: 2.0793 - acc: 0.3016 - val_loss: 2.0792 - val_acc: 0.2154\n",
            "Epoch 2/30\n",
            "20/20 [==============================] - 20s 1s/step - loss: 2.0788 - acc: 0.3969 - val_loss: 2.0788 - val_acc: 0.2254\n",
            "Epoch 3/30\n",
            "20/20 [==============================] - 20s 1s/step - loss: 2.0784 - acc: 0.4195 - val_loss: 2.0782 - val_acc: 0.2418\n",
            "Epoch 4/30\n",
            "20/20 [==============================] - 20s 1s/step - loss: 2.0781 - acc: 0.4023 - val_loss: 2.0776 - val_acc: 0.1855\n",
            "Epoch 5/30\n",
            "20/20 [==============================] - 20s 1s/step - loss: 2.0787 - acc: 0.4308 - val_loss: 2.0773 - val_acc: 0.1619\n",
            "Epoch 6/30\n",
            "20/20 [==============================] - 20s 1s/step - loss: 2.0775 - acc: 0.4336 - val_loss: 2.0765 - val_acc: 0.1654\n",
            "Epoch 7/30\n",
            "20/20 [==============================] - 20s 1s/step - loss: 2.0767 - acc: 0.3961 - val_loss: 2.0757 - val_acc: 0.1773\n",
            "Epoch 8/30\n",
            "20/20 [==============================] - 20s 1s/step - loss: 2.0745 - acc: 0.3820 - val_loss: 2.0739 - val_acc: 0.2211\n",
            "Epoch 9/30\n",
            "20/20 [==============================] - 20s 1s/step - loss: 2.0711 - acc: 0.4297 - val_loss: 2.0714 - val_acc: 0.2449\n",
            "Epoch 10/30\n",
            "20/20 [==============================] - 20s 1s/step - loss: 2.0719 - acc: 0.4437 - val_loss: 2.0696 - val_acc: 0.2613\n",
            "Epoch 11/30\n",
            "20/20 [==============================] - 20s 1s/step - loss: 2.0687 - acc: 0.4500 - val_loss: 2.0673 - val_acc: 0.2867\n",
            "Epoch 12/30\n",
            "20/20 [==============================] - 20s 1s/step - loss: 2.0690 - acc: 0.4352 - val_loss: 2.0657 - val_acc: 0.2928\n",
            "Epoch 13/30\n",
            "20/20 [==============================] - 20s 1s/step - loss: 2.0698 - acc: 0.4062 - val_loss: 2.0643 - val_acc: 0.3230\n",
            "Epoch 14/30\n",
            "20/20 [==============================] - 20s 1s/step - loss: 2.0805 - acc: 0.4434 - val_loss: 2.0650 - val_acc: 0.3318\n",
            "Epoch 15/30\n",
            "20/20 [==============================] - 20s 1s/step - loss: 2.0586 - acc: 0.4461 - val_loss: 2.0614 - val_acc: 0.4029\n",
            "Epoch 16/30\n",
            "20/20 [==============================] - 20s 1s/step - loss: 2.0454 - acc: 0.4891 - val_loss: 2.0576 - val_acc: 0.4469\n",
            "Epoch 17/30\n",
            "20/20 [==============================] - 20s 1s/step - loss: 2.0580 - acc: 0.4563 - val_loss: 2.0564 - val_acc: 0.4619\n",
            "Epoch 18/30\n",
            "20/20 [==============================] - 20s 1s/step - loss: 2.0440 - acc: 0.4578 - val_loss: 2.0549 - val_acc: 0.4518\n",
            "Epoch 19/30\n",
            "20/20 [==============================] - 20s 1s/step - loss: 2.0720 - acc: 0.4560 - val_loss: 2.0548 - val_acc: 0.4609\n",
            "Epoch 20/30\n",
            "20/20 [==============================] - 20s 1s/step - loss: 2.0372 - acc: 0.4648 - val_loss: 2.0535 - val_acc: 0.4922\n",
            "Epoch 21/30\n",
            "20/20 [==============================] - 20s 1s/step - loss: 2.0555 - acc: 0.4883 - val_loss: 2.0530 - val_acc: 0.5102\n",
            "Epoch 22/30\n",
            "20/20 [==============================] - 20s 1s/step - loss: 2.0501 - acc: 0.5180 - val_loss: 2.0529 - val_acc: 0.5139\n",
            "Epoch 23/30\n",
            "20/20 [==============================] - 20s 1s/step - loss: 2.0254 - acc: 0.5102 - val_loss: 2.0527 - val_acc: 0.5234\n",
            "Epoch 24/30\n",
            "20/20 [==============================] - 20s 1s/step - loss: 2.0610 - acc: 0.5188 - val_loss: 2.0518 - val_acc: 0.5215\n",
            "Epoch 25/30\n",
            "20/20 [==============================] - 20s 1s/step - loss: 2.0298 - acc: 0.4812 - val_loss: 2.0514 - val_acc: 0.5285\n",
            "Epoch 26/30\n",
            "20/20 [==============================] - 20s 1s/step - loss: 2.0582 - acc: 0.5367 - val_loss: 2.0513 - val_acc: 0.5566\n",
            "Epoch 27/30\n",
            "20/20 [==============================] - 20s 1s/step - loss: 2.0815 - acc: 0.5203 - val_loss: 2.0513 - val_acc: 0.5762\n",
            "Epoch 28/30\n",
            "20/20 [==============================] - 20s 1s/step - loss: 2.0463 - acc: 0.5352 - val_loss: 2.0509 - val_acc: 0.6100\n",
            "Epoch 29/30\n",
            "20/20 [==============================] - 20s 1s/step - loss: 2.0471 - acc: 0.5181 - val_loss: 2.0507 - val_acc: 0.6502\n",
            "Epoch 30/30\n",
            "20/20 [==============================] - 20s 1s/step - loss: 2.0342 - acc: 0.5594 - val_loss: 2.0507 - val_acc: 0.6412\n"
          ]
        }
      ]
    },
    {
      "cell_type": "code",
      "metadata": {
        "id": "to41Grk48TI1"
      },
      "source": [
        "model.save('geoguessr.h5')"
      ],
      "execution_count": null,
      "outputs": []
    },
    {
      "cell_type": "markdown",
      "metadata": {
        "id": "yclk5Z5o0KRZ"
      },
      "source": [
        "#Plotting\n",
        "Below is the accuracy and loss of our model plotted for the 30 epochs."
      ]
    },
    {
      "cell_type": "code",
      "metadata": {
        "colab": {
          "base_uri": "https://localhost:8080/",
          "height": 545
        },
        "id": "rLLiTLMl8b1q",
        "outputId": "11202cec-91ad-4fff-ce48-31a0591c512e"
      },
      "source": [
        "import matplotlib.pyplot as plt\n",
        "\n",
        "acc = history.history['acc']\n",
        "val_acc = history.history['val_acc']\n",
        "loss = history.history['loss']\n",
        "val_loss = history.history['val_loss']\n",
        "\n",
        "epochs = range(len(acc))\n",
        "\n",
        "plt.plot(epochs, acc, 'bo', label='Training acc')\n",
        "plt.plot(epochs, val_acc, 'b', label='Validation acc')\n",
        "plt.title('Training and validation accuracy')\n",
        "plt.legend()\n",
        "\n",
        "plt.figure()\n",
        "\n",
        "plt.plot(epochs, loss, 'bo', label='Training loss')\n",
        "plt.plot(epochs, val_loss, 'b', label='Validation loss')\n",
        "plt.title('Training and validation loss')\n",
        "plt.legend()\n",
        "\n",
        "plt.show()"
      ],
      "execution_count": null,
      "outputs": [
        {
          "output_type": "display_data",
          "data": {
            "image/png": "[encoded data removed]",
            "text/plain": [
              "<Figure size 432x288 with 1 Axes>"
            ]
          },
          "metadata": {
            "needs_background": "light"
          }
        },
        {
          "output_type": "display_data",
          "data": {
            "image/png": "[encoded data removed]",
            "text/plain": [
              "<Figure size 432x288 with 1 Axes>"
            ]
          },
          "metadata": {
            "needs_background": "light"
          }
        }
      ]
    }
  ]
}